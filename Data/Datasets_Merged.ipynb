{
 "cells": [
  {
   "cell_type": "markdown",
   "metadata": {},
   "source": [
    "Datasets\n",
    "---"
   ]
  },
  {
   "cell_type": "code",
   "execution_count": null,
   "metadata": {},
   "outputs": [],
   "source": [
    "# Dependencies and Setup\n",
    "import pandas as pd\n",
    "from pathlib import Path\n",
    "import numpy as np\n",
    "import matplotlib.pyplot as plt\n",
    "import seaborn as sns\n",
    "import math"
   ]
  },
  {
   "cell_type": "code",
   "execution_count": null,
   "metadata": {},
   "outputs": [],
   "source": [
    "#File to load\n",
    "hotel_bookings_file = Path(\"Resources/hotel_bookings Dataset2.csv\")\n",
    "tourism_file = Path(\"Resources/tourism_dataset.csv\")\n",
    "\n",
    "#Read file and store into Pandas DataFrames\n",
    "hotel_data = pd.read_csv(hotel_bookings_file)\n",
    "tourism_data = pd.read_csv(tourism_file)\n",
    "\n",
    "\n"
   ]
  },
  {
   "cell_type": "code",
   "execution_count": null,
   "metadata": {},
   "outputs": [],
   "source": [
    "tourism_data.info()"
   ]
  },
  {
   "cell_type": "code",
   "execution_count": null,
   "metadata": {},
   "outputs": [],
   "source": [
    "#combine the data into single dataframe\n",
    "hotel_tourism_df = pd.merge(hotel_data, tourism_data, how=\"left\", on=\"Country\")\n",
    "\n",
    "#display data"
   ]
  }
 ],
 "metadata": {
  "kernelspec": {
   "display_name": "base",
   "language": "python",
   "name": "python3"
  },
  "language_info": {
   "name": "python",
   "version": "3.12.4"
  }
 },
 "nbformat": 4,
 "nbformat_minor": 2
}
