{
 "cells": [
  {
   "cell_type": "code",
   "execution_count": 1,
   "metadata": {},
   "outputs": [],
   "source": [
    "import pandas as pd\n",
    "import kaggle# to access kaggle\n",
    "import pandas as pd\n",
    "from pathlib import Path\n",
    "import csv\n",
    "import zipfile# importing dependence for zipfile\n",
    "from kaggle.api.kaggle_api_extended import KaggleApi\n"
   ]
  },
  {
   "cell_type": "code",
   "execution_count": 2,
   "metadata": {},
   "outputs": [
    {
     "name": "stdout",
     "output_type": "stream",
     "text": [
      "Dataset URL: https://www.kaggle.com/datasets/umeradnaan/tourism-dataset\n",
      "Dataset URL: https://www.kaggle.com/datasets/jessemostipak/hotel-booking-demand\n"
     ]
    },
    {
     "data": {
      "text/plain": [
       "True"
      ]
     },
     "execution_count": 2,
     "metadata": {},
     "output_type": "execute_result"
    }
   ],
   "source": [
    "#loading filess\n",
    "# File to Load (Remember to Change These)\n",
    "api = KaggleApi()\n",
    "api.authenticate()\n",
    "#downloading files\n",
    "api.dataset_download_file(\"umeradnaan/tourism-dataset\",\n",
    "                          file_name=\"tourism_dataset.csv\")#path=\"./data \n",
    "\n",
    "api.dataset_download_file(\"jessemostipak/hotel-booking-demand\",\n",
    "                          file_name=\"hotel_bookings.csv\")\n"
   ]
  },
  {
   "cell_type": "code",
   "execution_count": 3,
   "metadata": {},
   "outputs": [],
   "source": [
    "#unziping file\n",
    "with zipfile.ZipFile(\"hotel_bookings.csv.zip\", \"r\") as zipref:\n",
    "    zipref.extractall()\n"
   ]
  },
  {
   "cell_type": "code",
   "execution_count": 5,
   "metadata": {},
   "outputs": [
    {
     "name": "stdout",
     "output_type": "stream",
     "text": [
      "Index(['hotel', 'is_canceled', 'lead_time', 'arrival_date_year',\n",
      "       'arrival_date_month', 'arrival_date_week_number',\n",
      "       'arrival_date_day_of_month', 'stays_in_weekend_nights',\n",
      "       'stays_in_week_nights', 'adults', 'children', 'babies', 'meal',\n",
      "       'country', 'market_segment', 'distribution_channel',\n",
      "       'is_repeated_guest', 'previous_cancellations',\n",
      "       'previous_bookings_not_canceled', 'reserved_room_type',\n",
      "       'assigned_room_type', 'booking_changes', 'deposit_type', 'agent',\n",
      "       'company', 'days_in_waiting_list', 'customer_type', 'adr',\n",
      "       'required_car_parking_spaces', 'total_of_special_requests',\n",
      "       'reservation_status', 'reservation_status_date'],\n",
      "      dtype='object')\n",
      "Index(['Location', 'Country', 'Category', 'Visitors', 'Rating', 'Revenue',\n",
      "       'Accommodation_Available'],\n",
      "      dtype='object')\n"
     ]
    }
   ],
   "source": [
    "#reading files\n",
    "hotel_data = Path(\"hotel_bookings.csv\")\n",
    "travel_data = Path(\"tourism_dataset.csv\")\n",
    "hotel = pd.read_csv(hotel_data)\n",
    "travel = pd.read_csv(travel_data)\n",
    "print(hotel.keys())\n",
    "print(travel.keys())\n"
   ]
  },
  {
   "cell_type": "code",
   "execution_count": null,
   "metadata": {},
   "outputs": [],
   "source": [
    "travel_data = pd.DataFrame({\n",
    "    \"Country\": data[\"country\"]\n",
    "    \"\"\n",
    "})"
   ]
  },
  {
   "cell_type": "code",
   "execution_count": null,
   "metadata": {},
   "outputs": [],
   "source": [
    "data[\"country\"]\n",
    "\n",
    "    "
   ]
  },
  {
   "cell_type": "code",
   "execution_count": null,
   "metadata": {},
   "outputs": [],
   "source": []
  }
 ],
 "metadata": {
  "kernelspec": {
   "display_name": "base",
   "language": "python",
   "name": "python3"
  },
  "language_info": {
   "codemirror_mode": {
    "name": "ipython",
    "version": 3
   },
   "file_extension": ".py",
   "mimetype": "text/x-python",
   "name": "python",
   "nbconvert_exporter": "python",
   "pygments_lexer": "ipython3",
   "version": "3.12.3"
  }
 },
 "nbformat": 4,
 "nbformat_minor": 2
}
